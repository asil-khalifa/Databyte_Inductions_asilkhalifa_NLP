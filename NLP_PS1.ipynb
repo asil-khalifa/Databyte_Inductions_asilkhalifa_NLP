{
 "cells": [
  {
   "cell_type": "code",
   "execution_count": 74,
   "metadata": {},
   "outputs": [],
   "source": [
    "import numpy as np\n",
    "import pandas as pd\n",
    "import copy\n",
    "import pickle\n",
    "import matplotlib.pyplot as plt"
   ]
  },
  {
   "cell_type": "code",
   "execution_count": 75,
   "metadata": {},
   "outputs": [
    {
     "name": "stdout",
     "output_type": "stream",
     "text": [
      "{'uci_id': 94, 'name': 'Spambase', 'repository_url': 'https://archive.ics.uci.edu/dataset/94/spambase', 'data_url': 'https://archive.ics.uci.edu/static/public/94/data.csv', 'abstract': 'Classifying Email as Spam or Non-Spam', 'area': 'Computer Science', 'tasks': ['Classification'], 'characteristics': ['Multivariate'], 'num_instances': 4601, 'num_features': 57, 'feature_types': ['Integer', 'Real'], 'demographics': [], 'target_col': ['Class'], 'index_col': None, 'has_missing_values': 'no', 'missing_values_symbol': None, 'year_of_dataset_creation': 1999, 'last_updated': 'Mon Aug 28 2023', 'dataset_doi': '10.24432/C53G6X', 'creators': ['Mark Hopkins', 'Erik Reeber', 'George Forman', 'Jaap Suermondt'], 'intro_paper': None, 'additional_info': {'summary': 'The \"spam\" concept is diverse: advertisements for products/web sites, make money fast schemes, chain letters, pornography...\\n\\nThe classification task for this dataset is to determine whether a given email is spam or not.\\n\\t\\nOur collection of spam e-mails came from our postmaster and individuals who had filed spam.  Our collection of non-spam e-mails came from filed work and personal e-mails, and hence the word \\'george\\' and the area code \\'650\\' are indicators of non-spam.  These are useful when constructing a personalized spam filter.  One would either have to blind such non-spam indicators or get a very wide collection of non-spam to generate a general purpose spam filter.\\n\\nFor background on spam: Cranor, Lorrie F., LaMacchia, Brian A.  Spam!, Communications of the ACM, 41(8):74-83, 1998.\\n\\nTypical performance is around ~7% misclassification error. False positives (marking good mail as spam) are very undesirable.If we insist on zero false positives in the training/testing set, 20-25% of the spam passed through the filter. See also Hewlett-Packard Internal-only Technical Report. External version forthcoming. ', 'purpose': None, 'funded_by': None, 'instances_represent': 'Emails', 'recommended_data_splits': None, 'sensitive_data': None, 'preprocessing_description': None, 'variable_info': 'The last column of \\'spambase.data\\' denotes whether the e-mail was considered spam (1) or not (0), i.e. unsolicited commercial e-mail.  Most of the attributes indicate whether a particular word or character was frequently occuring in the e-mail.  The run-length attributes (55-57) measure the length of sequences of consecutive capital letters.  For the statistical measures of each attribute, see the end of this file.  Here are the definitions of the attributes:\\r\\n\\r\\n48 continuous real [0,100] attributes of type word_freq_WORD \\r\\n= percentage of words in the e-mail that match WORD, i.e. 100 * (number of times the WORD appears in the e-mail) / total number of words in e-mail.  A \"word\" in this case is any string of alphanumeric characters bounded by non-alphanumeric characters or end-of-string.\\r\\n\\r\\n6 continuous real [0,100] attributes of type char_freq_CHAR] \\r\\n= percentage of characters in the e-mail that match CHAR, i.e. 100 * (number of CHAR occurences) / total characters in e-mail\\r\\n\\r\\n1 continuous real [1,...] attribute of type capital_run_length_average \\r\\n= average length of uninterrupted sequences of capital letters\\r\\n\\r\\n1 continuous integer [1,...] attribute of type capital_run_length_longest \\r\\n= length of longest uninterrupted sequence of capital letters\\r\\n\\r\\n1 continuous integer [1,...] attribute of type capital_run_length_total \\r\\n= sum of length of uninterrupted sequences of capital letters \\r\\n= total number of capital letters in the e-mail\\r\\n\\r\\n1 nominal {0,1} class attribute of type spam\\r\\n= denotes whether the e-mail was considered spam (1) or not (0), i.e. unsolicited commercial e-mail.  \\r\\n', 'citation': None}}\n",
      "                          name     role        type demographic  \\\n",
      "0               word_freq_make  Feature  Continuous        None   \n",
      "1            word_freq_address  Feature  Continuous        None   \n",
      "2                word_freq_all  Feature  Continuous        None   \n",
      "3                 word_freq_3d  Feature  Continuous        None   \n",
      "4                word_freq_our  Feature  Continuous        None   \n",
      "5               word_freq_over  Feature  Continuous        None   \n",
      "6             word_freq_remove  Feature  Continuous        None   \n",
      "7           word_freq_internet  Feature  Continuous        None   \n",
      "8              word_freq_order  Feature  Continuous        None   \n",
      "9               word_freq_mail  Feature  Continuous        None   \n",
      "10           word_freq_receive  Feature  Continuous        None   \n",
      "11              word_freq_will  Feature  Continuous        None   \n",
      "12            word_freq_people  Feature  Continuous        None   \n",
      "13            word_freq_report  Feature  Continuous        None   \n",
      "14         word_freq_addresses  Feature  Continuous        None   \n",
      "15              word_freq_free  Feature  Continuous        None   \n",
      "16          word_freq_business  Feature  Continuous        None   \n",
      "17             word_freq_email  Feature  Continuous        None   \n",
      "18               word_freq_you  Feature  Continuous        None   \n",
      "19            word_freq_credit  Feature  Continuous        None   \n",
      "20              word_freq_your  Feature  Continuous        None   \n",
      "21              word_freq_font  Feature  Continuous        None   \n",
      "22               word_freq_000  Feature  Continuous        None   \n",
      "23             word_freq_money  Feature  Continuous        None   \n",
      "24                word_freq_hp  Feature  Continuous        None   \n",
      "25               word_freq_hpl  Feature  Continuous        None   \n",
      "26            word_freq_george  Feature  Continuous        None   \n",
      "27               word_freq_650  Feature  Continuous        None   \n",
      "28               word_freq_lab  Feature  Continuous        None   \n",
      "29              word_freq_labs  Feature  Continuous        None   \n",
      "30            word_freq_telnet  Feature  Continuous        None   \n",
      "31               word_freq_857  Feature  Continuous        None   \n",
      "32              word_freq_data  Feature  Continuous        None   \n",
      "33               word_freq_415  Feature  Continuous        None   \n",
      "34                word_freq_85  Feature  Continuous        None   \n",
      "35        word_freq_technology  Feature  Continuous        None   \n",
      "36              word_freq_1999  Feature  Continuous        None   \n",
      "37             word_freq_parts  Feature  Continuous        None   \n",
      "38                word_freq_pm  Feature  Continuous        None   \n",
      "39            word_freq_direct  Feature  Continuous        None   \n",
      "40                word_freq_cs  Feature  Continuous        None   \n",
      "41           word_freq_meeting  Feature  Continuous        None   \n",
      "42          word_freq_original  Feature  Continuous        None   \n",
      "43           word_freq_project  Feature  Continuous        None   \n",
      "44                word_freq_re  Feature  Continuous        None   \n",
      "45               word_freq_edu  Feature  Continuous        None   \n",
      "46             word_freq_table  Feature  Continuous        None   \n",
      "47        word_freq_conference  Feature  Continuous        None   \n",
      "48                 char_freq_;  Feature  Continuous        None   \n",
      "49                 char_freq_(  Feature  Continuous        None   \n",
      "50                 char_freq_[  Feature  Continuous        None   \n",
      "51                 char_freq_!  Feature  Continuous        None   \n",
      "52                 char_freq_$  Feature  Continuous        None   \n",
      "53                 char_freq_#  Feature  Continuous        None   \n",
      "54  capital_run_length_average  Feature  Continuous        None   \n",
      "55  capital_run_length_longest  Feature  Continuous        None   \n",
      "56    capital_run_length_total  Feature  Continuous        None   \n",
      "57                       Class   Target      Binary        None   \n",
      "\n",
      "                 description units missing_values  \n",
      "0                       None  None             no  \n",
      "1                       None  None             no  \n",
      "2                       None  None             no  \n",
      "3                       None  None             no  \n",
      "4                       None  None             no  \n",
      "5                       None  None             no  \n",
      "6                       None  None             no  \n",
      "7                       None  None             no  \n",
      "8                       None  None             no  \n",
      "9                       None  None             no  \n",
      "10                      None  None             no  \n",
      "11                      None  None             no  \n",
      "12                      None  None             no  \n",
      "13                      None  None             no  \n",
      "14                      None  None             no  \n",
      "15                      None  None             no  \n",
      "16                      None  None             no  \n",
      "17                      None  None             no  \n",
      "18                      None  None             no  \n",
      "19                      None  None             no  \n",
      "20                      None  None             no  \n",
      "21                      None  None             no  \n",
      "22                      None  None             no  \n",
      "23                      None  None             no  \n",
      "24                      None  None             no  \n",
      "25                      None  None             no  \n",
      "26                      None  None             no  \n",
      "27                      None  None             no  \n",
      "28                      None  None             no  \n",
      "29                      None  None             no  \n",
      "30                      None  None             no  \n",
      "31                      None  None             no  \n",
      "32                      None  None             no  \n",
      "33                      None  None             no  \n",
      "34                      None  None             no  \n",
      "35                      None  None             no  \n",
      "36                      None  None             no  \n",
      "37                      None  None             no  \n",
      "38                      None  None             no  \n",
      "39                      None  None             no  \n",
      "40                      None  None             no  \n",
      "41                      None  None             no  \n",
      "42                      None  None             no  \n",
      "43                      None  None             no  \n",
      "44                      None  None             no  \n",
      "45                      None  None             no  \n",
      "46                      None  None             no  \n",
      "47                      None  None             no  \n",
      "48                      None  None             no  \n",
      "49                      None  None             no  \n",
      "50                      None  None             no  \n",
      "51                      None  None             no  \n",
      "52                      None  None             no  \n",
      "53                      None  None             no  \n",
      "54                      None  None             no  \n",
      "55                      None  None             no  \n",
      "56                      None  None             no  \n",
      "57  spam (1) or not spam (0)  None             no  \n"
     ]
    }
   ],
   "source": [
    "from ucimlrepo import fetch_ucirepo \n",
    "\n",
    "# fetch dataset \n",
    "spambase = fetch_ucirepo(id=94) \n",
    "  \n",
    "# data (as pandas dataframes) \n",
    "x_all = spambase.data.features.to_numpy()\n",
    "y_all = spambase.data.targets.to_numpy()\n",
    "  \n",
    "# metadata \n",
    "print(spambase.metadata) \n",
    "  \n",
    "# variable information \n",
    "print(spambase.variables) \n"
   ]
  },
  {
   "cell_type": "code",
   "execution_count": 76,
   "metadata": {},
   "outputs": [],
   "source": [
    "x_mean = np.mean(x_all, axis = 0)\n",
    "x_std = np.std(x_all, axis = 0)\n",
    "x_all = (x_all - x_mean)/x_std\n",
    "y_all = y_all.reshape(y_all.shape[0]) #convert from array to vector"
   ]
  },
  {
   "cell_type": "code",
   "execution_count": 77,
   "metadata": {},
   "outputs": [
    {
     "name": "stdout",
     "output_type": "stream",
     "text": [
      "(3801, 57) (3801,) (800, 57) (800,)\n",
      "[14.86943183 11.06603644 10.11727921 30.68817758 14.87122231 21.47597476\n",
      " 18.57440479 27.70381057 18.88109179 28.19980414 12.95139066 11.22324264\n",
      " 18.43834907 29.83761748 17.03917677 24.22181498 16.08082502 17.11655847\n",
      " 10.56166834 35.66723609  9.25309523 16.67244979 15.56038736 28.24300777\n",
      " 12.46433853 18.78539996  9.8992379  16.87967389 24.07030478 12.87689213\n",
      " 30.99055782 14.48908439 32.70685441 14.45009815 37.57971382 19.10182272\n",
      " 16.27282234 37.75606458 25.56227734 13.60474398 19.7693331  18.62440018\n",
      " 15.95263701 32.1590986  16.46932997 10.97670689 28.45305289 35.00130988\n",
      "  8.43312088 36.07496238 37.3095183   9.61643406 24.41680232 46.18963704\n",
      " 34.7191573  51.25464864 26.12645798]\n"
     ]
    }
   ],
   "source": [
    "x_train = x_all[:3801]\n",
    "y_train = y_all[:3801]\n",
    "\n",
    "x_test = x_all[3801:]\n",
    "y_test = y_all[3801:]\n",
    "\n",
    "print(x_train.shape, y_train.shape, x_test.shape, y_test.shape)\n",
    "\n",
    "print(np.ptp(x_train, axis=0))"
   ]
  },
  {
   "cell_type": "code",
   "execution_count": 78,
   "metadata": {},
   "outputs": [],
   "source": [
    "def sigmoid(z):\n",
    "    return 1/(1 + np.exp(-z))"
   ]
  },
  {
   "cell_type": "code",
   "execution_count": 79,
   "metadata": {},
   "outputs": [],
   "source": [
    "def predict(x, w, b):\n",
    "    return sigmoid(np.dot(x, w) + b)"
   ]
  },
  {
   "cell_type": "code",
   "execution_count": 80,
   "metadata": {},
   "outputs": [],
   "source": [
    "def cost(x, y, w, b, lambda_):\n",
    "    m, n = x.shape\n",
    "\n",
    "    cost = 0\n",
    "    for i in range(m):\n",
    "        f = sigmoid(np.dot(x[i], w) + b)\n",
    "        cost -= y[i]*np.log(f) + (1-y[i])*np.log(1-f)\n",
    "    cost /= m\n",
    "\n",
    "    cost += lambda_*np.sum(w**2)/(2*m)\n",
    "\n",
    "    return cost"
   ]
  },
  {
   "cell_type": "code",
   "execution_count": 82,
   "metadata": {},
   "outputs": [],
   "source": [
    "def gradient(x, y, w, b, lambda_):\n",
    "    m, n = x.shape\n",
    "    dj_dw = np.zeros(n)\n",
    "    dj_db = 0.\n",
    "    \n",
    "    for i in range(m):\n",
    "        f = sigmoid(np.dot(x[i], w) + b)\n",
    "        error = f - y[i]\n",
    "        dj_dw += error * x[i]\n",
    "        dj_db += error\n",
    "\n",
    "    dj_dw /= m \n",
    "    dj_db /= m\n",
    "\n",
    "    dj_dw += lambda_*w/m \n",
    "\n",
    "    return dj_dw, dj_db"
   ]
  },
  {
   "cell_type": "code",
   "execution_count": 83,
   "metadata": {},
   "outputs": [],
   "source": [
    "def gradient_descent(x, y, w_in, b, labmda_, alpha, iters):\n",
    "    m, n = x.shape \n",
    "    w = copy.deepcopy(w_in)\n",
    "    j_history = []\n",
    "\n",
    "    for i in range(iters):\n",
    "        dj_dw, dj_db = gradient(x, y, w, b, lambda_)\n",
    "\n",
    "        w -= alpha * dj_dw\n",
    "        b -= alpha * dj_db\n",
    "\n",
    "        cost_ = cost(x, y, w, b, lambda_)\n",
    "        j_history.append(cost_)\n",
    "\n",
    "        if i%(iters//10 + 1) == 0 or i == iters-1:\n",
    "            print(i, 'Cost: ', cost_)\n",
    "    \n",
    "    return w, b, j_history\n",
    "\n"
   ]
  },
  {
   "cell_type": "code",
   "execution_count": 84,
   "metadata": {},
   "outputs": [
    {
     "name": "stdout",
     "output_type": "stream",
     "text": [
      "0 Cost:  0.720820520908807\n",
      "251 Cost:  0.3995362264418716\n",
      "502 Cost:  0.31864630688761914\n",
      "753 Cost:  0.28213345001879886\n",
      "1004 Cost:  0.2618236462428359\n",
      "1255 Cost:  0.24930478242137866\n",
      "1506 Cost:  0.24112808684944573\n",
      "1757 Cost:  0.2351723802495932\n",
      "2008 Cost:  0.23049834502012045\n",
      "2259 Cost:  0.22666561431456733\n",
      "2499 Cost:  0.2235620405521262\n"
     ]
    }
   ],
   "source": [
    "m, n = x_train.shape\n",
    "init_w = np.random.rand(n) - .5\n",
    "init_b = 0\n",
    "lambda_ = .01\n",
    "iters = 2500\n",
    "alpha = .01\n",
    "\n",
    "w_final, b_final, j_history = gradient_descent(x_train, y_train, init_w, init_b, lambda_, alpha, iters)\n"
   ]
  },
  {
   "cell_type": "code",
   "execution_count": 89,
   "metadata": {},
   "outputs": [
    {
     "data": {
      "text/plain": [
       "Text(0, 0.5, 'Cost')"
      ]
     },
     "execution_count": 89,
     "metadata": {},
     "output_type": "execute_result"
    },
    {
     "data": {
      "image/png": "[encoded data removed]",
      "text/plain": [
       "<Figure size 640x480 with 1 Axes>"
      ]
     },
     "metadata": {},
     "output_type": "display_data"
    }
   ],
   "source": [
    "plt.plot(np.arange(len(j_history)), j_history)\n",
    "plt.xlabel('Iteration')\n",
    "plt.ylabel('Cost')"
   ]
  },
  {
   "cell_type": "code",
   "execution_count": 86,
   "metadata": {},
   "outputs": [
    {
     "name": "stdout",
     "output_type": "stream",
     "text": [
      "Accuracy = 80.75 %\n"
     ]
    }
   ],
   "source": [
    "correct = 0\n",
    "for i in range(len(x_test)):\n",
    "    f = predict(x_test[i], w_final, b_final)\n",
    "    if (f >=0.5):\n",
    "        pred = 1\n",
    "    else:\n",
    "        pred = 0\n",
    "    \n",
    "    if (pred == y_test[i]):\n",
    "        correct += 1\n",
    "\n",
    "print('Accuracy =', correct/len(x_test)*100, '%')"
   ]
  },
  {
   "cell_type": "code",
   "execution_count": 87,
   "metadata": {},
   "outputs": [
    {
     "name": "stdout",
     "output_type": "stream",
     "text": [
      "Weights:\n",
      "W: [-0.05702844 -0.11591987  0.16794112  0.09927905  0.25915292  0.26423811\n",
      "  0.58510217  0.39210435  0.09233965  0.0843812  -0.00643171 -0.18955768\n",
      "  0.09259065  0.04233803  0.34572416  0.7138353   0.25788289  0.16975946\n",
      "  0.3176085   0.32495614  0.25527084  0.55568322  0.59033871  0.5180749\n",
      " -0.63596604 -0.23110707 -0.69836234  0.06498434 -0.52777901 -0.21403284\n",
      " -0.17968687 -0.27355071 -0.37821533  0.22918268 -0.50669962 -0.13313925\n",
      " -0.31527001 -0.07632561 -0.39972409  0.05285263 -0.2459234  -0.21103798\n",
      " -0.06021432 -0.19057112 -0.25846057  0.11626133 -0.12218121 -0.53452961\n",
      "  0.09551904 -0.0217167  -0.29202557  0.94178442  0.60049734  0.00616422\n",
      " -0.04228651  0.41172323  0.43049877] b: -0.2306916406063108\n"
     ]
    }
   ],
   "source": [
    "print('Weights:\\nW:', w_final, 'b:', b_final)\n",
    "data = {\n",
    "    'w': w_final,\n",
    "    'b': b_final\n",
    "}\n",
    "with open('parameters.pickle', 'wb') as f:\n",
    "    pickle.dump(data, f)"
   ]
  },
  {
   "cell_type": "code",
   "execution_count": 88,
   "metadata": {},
   "outputs": [
    {
     "name": "stdout",
     "output_type": "stream",
     "text": [
      "w: [-0.05702844 -0.11591987  0.16794112  0.09927905  0.25915292  0.26423811\n",
      "  0.58510217  0.39210435  0.09233965  0.0843812  -0.00643171 -0.18955768\n",
      "  0.09259065  0.04233803  0.34572416  0.7138353   0.25788289  0.16975946\n",
      "  0.3176085   0.32495614  0.25527084  0.55568322  0.59033871  0.5180749\n",
      " -0.63596604 -0.23110707 -0.69836234  0.06498434 -0.52777901 -0.21403284\n",
      " -0.17968687 -0.27355071 -0.37821533  0.22918268 -0.50669962 -0.13313925\n",
      " -0.31527001 -0.07632561 -0.39972409  0.05285263 -0.2459234  -0.21103798\n",
      " -0.06021432 -0.19057112 -0.25846057  0.11626133 -0.12218121 -0.53452961\n",
      "  0.09551904 -0.0217167  -0.29202557  0.94178442  0.60049734  0.00616422\n",
      " -0.04228651  0.41172323  0.43049877] b: -0.2306916406063108\n"
     ]
    }
   ],
   "source": [
    "# Reading weights from file:\n",
    "\n",
    "with open('parameters.pickle', 'rb') as f:\n",
    "    data_in = pickle.load(f)\n",
    "\n",
    "w_read = data_in['w']\n",
    "b_read = data_in['b']\n",
    "\n",
    "print('w:', w_read, 'b:', b_read)"
   ]
  }
 ],
 "metadata": {
  "kernelspec": {
   "display_name": "Python 3",
   "language": "python",
   "name": "python3"
  },
  "language_info": {
   "codemirror_mode": {
    "name": "ipython",
    "version": 3
   },
   "file_extension": ".py",
   "mimetype": "text/x-python",
   "name": "python",
   "nbconvert_exporter": "python",
   "pygments_lexer": "ipython3",
   "version": "3.12.0"
  }
 },
 "nbformat": 4,
 "nbformat_minor": 2
}
